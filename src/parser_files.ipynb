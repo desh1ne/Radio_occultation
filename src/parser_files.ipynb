{
 "cells": [
  {
   "cell_type": "code",
   "execution_count": 2,
   "metadata": {},
   "outputs": [],
   "source": [
    "import numpy as np\n",
    "import pandas as pd\n",
    "\n",
    "from os import listdir\n",
    "from os.path import isfile, join\n",
    "\n",
    "from datetime import date, time, datetime\n",
    "\n",
    "from tqdm import tqdm\n",
    "\n",
    "import sys\n",
    "import parser_stat"
   ]
  },
  {
   "cell_type": "code",
   "execution_count": 28,
   "metadata": {},
   "outputs": [],
   "source": [
    "def parse_raw_hurr(path_dir, files, index_name=None):\n",
    "    for path_file in tqdm(files):\n",
    "        acyclon_df = parser_stat.parse_hurricane(path_file)\n",
    "        if index_name is not None:\n",
    "            acyclon_df = acyclon_df.set_index(index_name)\n",
    "\n",
    "        acyclon_df.to_csv(path_dir + path_file.split('//')[-1].split('.')[0] + \".csv\", index=False)"
   ]
  },
  {
   "cell_type": "code",
   "execution_count": 29,
   "metadata": {},
   "outputs": [
    {
     "name": "stderr",
     "output_type": "stream",
     "text": [
      "100%|██████████| 22/22 [00:01<00:00, 13.64it/s]\n"
     ]
    }
   ],
   "source": [
    "path_dir = '..//data//Results_Hurricane//ACyclons [dp] more 25//'\n",
    "files =  [join(path_dir, f) for f in listdir(path_dir) if isfile(join(path_dir, f))]\n",
    "parse_raw_hurr(\"..//data//Result_py//Hurr//ACyclon//\", files, \"ADV\")"
   ]
  },
  {
   "cell_type": "code",
   "execution_count": 30,
   "metadata": {},
   "outputs": [
    {
     "name": "stderr",
     "output_type": "stream",
     "text": [
      "100%|██████████| 106/106 [00:06<00:00, 16.67it/s]\n"
     ]
    }
   ],
   "source": [
    "path_dir = '..//data//Results_Hurricane//Cyclons [dp] more 25//'\n",
    "files =  [join(path_dir, f) for f in listdir(path_dir) if isfile(join(path_dir, f))]\n",
    "parse_raw_hurr(\"..//data//Result_py//Hurr//Cyclon//\", files, \"ADV\")"
   ]
  }
 ],
 "metadata": {
  "kernelspec": {
   "display_name": "Python 3",
   "language": "python",
   "name": "python3"
  },
  "language_info": {
   "codemirror_mode": {
    "name": "ipython",
    "version": 3
   },
   "file_extension": ".py",
   "mimetype": "text/x-python",
   "name": "python",
   "nbconvert_exporter": "python",
   "pygments_lexer": "ipython3",
   "version": "3.6.4"
  }
 },
 "nbformat": 4,
 "nbformat_minor": 2
}
